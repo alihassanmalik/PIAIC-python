{
 "cells": [
  {
   "cell_type": "markdown",
   "metadata": {},
   "source": [
    "# This is my 3rd Assigment related to lists etc"
   ]
  },
  {
   "cell_type": "markdown",
   "metadata": {},
   "source": [
    "#Exercise 3-1: Names\n",
    "Task: Store the names of a few of your friends in a list called names. Print each person’s\n",
    "name by accessing each element in the list, one at a time."
   ]
  },
  {
   "cell_type": "code",
   "execution_count": 141,
   "metadata": {},
   "outputs": [
    {
     "name": "stdout",
     "output_type": "stream",
     "text": [
      "Ali  Tayyab  Umair  Omar\n",
      ">>>>>>>>>>>>>>>>>>>>>>>>>>>>>>>>>>>>>>>>>>>>>>>>>>\n",
      "Ali\n",
      "Tayyab\n",
      "Umair\n",
      "Omar\n"
     ]
    }
   ],
   "source": [
    "names: list = ['Ali','Tayyab','Umair','Omar']\n",
    "print(names[0],'',names[1],'',names[2],'',names[3])\n",
    "print(\">>>>>>>>>>>>>>>>>>>>>>>>>>>>>>>>>>>>>>>>>>>>>>>>>>\")\n",
    "print(names[0])\n",
    "print(names[1])\n",
    "print(names[2])\n",
    "print(names[3])"
   ]
  },
  {
   "cell_type": "markdown",
   "metadata": {},
   "source": [
    "Exercise 3-2: Greetings\n",
    "● Task: Start with the list you used in Exercise 3-1. Instead of just printing each person’s\n",
    "name, print a message to them. The text of each message should be the same, but each\n",
    "message should be personalized with the person’s name."
   ]
  },
  {
   "cell_type": "code",
   "execution_count": 20,
   "metadata": {},
   "outputs": [
    {
     "name": "stdout",
     "output_type": "stream",
     "text": [
      "Hi, Ali How are you dear?\n",
      "Hi, Tayyab How are you dear?\n",
      "Hi, Umair How are you dear?\n",
      "Hi, Omar How are you dear?\n"
     ]
    }
   ],
   "source": [
    "#names: list = ['Ali','Tayyab','Umair','Omar']\n",
    "common_msg: str = 'Hi,How are you?'\n",
    "print('Hi,',names[0],'How are you dear?')\n",
    "print('Hi,',names[1],'How are you dear?')\n",
    "print('Hi,',names[2],'How are you dear?')\n",
    "print('Hi,',names[3],'How are you dear?')"
   ]
  },
  {
   "cell_type": "markdown",
   "metadata": {},
   "source": [
    "Exercise 3-3: Your Own List\n",
    "● Task: Think of your favorite mode of transportation, such as a motorcycle or a car, and\n",
    "make a list that stores several examples. Use your list to print a series of statements\n",
    "about these items, such as “I would like to own a Honda motorcycle.”"
   ]
  },
  {
   "cell_type": "code",
   "execution_count": 142,
   "metadata": {},
   "outputs": [
    {
     "name": "stdout",
     "output_type": "stream",
     "text": [
      "I would like to own a Honda Bike\n",
      "I would like to own a Audi Car\n",
      "I would like to own a Green line Train\n",
      "I would like to own a Daweedo Bus\n",
      "I would like to own a Boeing AeroPlane\n"
     ]
    }
   ],
   "source": [
    "favorite_transport: list = [\n",
    "                            \"Honda Bike\",\n",
    "                            \"Audi Car\",\n",
    "                            \"Green line Train\",\n",
    "                            \"Daweedo Bus\",\n",
    "                            \"Boeing AeroPlane\"\n",
    "                        ]\n",
    "print(\"I would like to own a\",favorite_transport[0])\n",
    "print(\"I would like to own a\",favorite_transport[1])\n",
    "print(\"I would like to own a\",favorite_transport[2])\n",
    "print(\"I would like to own a\",favorite_transport[3])\n",
    "print(\"I would like to own a\",favorite_transport[4])"
   ]
  },
  {
   "cell_type": "markdown",
   "metadata": {},
   "source": [
    "Exercise 3-4: Guest List\n",
    "● Task: If you could invite anyone, living or deceased, to dinner, who would you invite?\n",
    "Make a list that includes at least three people you’d like to invite to dinner. Then use your\n",
    "list to print a message to each person, inviting them to dinner."
   ]
  },
  {
   "cell_type": "code",
   "execution_count": 15,
   "metadata": {},
   "outputs": [
    {
     "name": "stdout",
     "output_type": "stream",
     "text": [
      "Dear! Azeem I would be honored to have you join me for dinner!\n",
      "Dear! Zafar I would be honored to have you join me for dinner!\n",
      "Dear! Irfan I would be honored to have you join me for dinner!\n",
      "Zafar Is not coming due to some personal reasons\n"
     ]
    }
   ],
   "source": [
    "guests :list = ['Azeem','Zafar','Irfan']\n",
    "print(\"Dear!\",guests[0],\"I would be honored to have you join me for dinner!\")\n",
    "print(\"Dear!\",guests[1],\"I would be honored to have you join me for dinner!\")\n",
    "print(\"Dear!\",guests[2],\"I would be honored to have you join me for dinner!\")"
   ]
  },
  {
   "cell_type": "markdown",
   "metadata": {},
   "source": [
    "Exercise 3-5: Changing Guest List\n",
    "● Task: Start with your program from Exercise 3-4. Add a print() call at the end of your\n",
    "program, stating the name of the guest who can’t make it. Modify your list, replacing the\n",
    "\n",
    "name of the guest who can’t make it with the name of the new person you are inviting.\n",
    "Print a second set of invitation messages, one for each person who is still in your list."
   ]
  },
  {
   "cell_type": "code",
   "execution_count": 146,
   "metadata": {},
   "outputs": [
    {
     "name": "stdout",
     "output_type": "stream",
     "text": [
      "\n",
      "Unfortunately, Zafar can't make it to the dinner.\n",
      "Dear! Azeem I would be honored to have you join me for dinner!\n",
      "Dear! Kamran I would be honored to have you join me for dinner!\n",
      "Dear! Irfan I would be honored to have you join me for dinner!\n",
      "Yahoo!!! We got bigger table so we can invite more friends\n"
     ]
    }
   ],
   "source": [
    "guests :list = ['Azeem','Zafar','Irfan']\n",
    "unavailable_guest = guests[1]\n",
    "print(f\"\\nUnfortunately, {unavailable_guest} can't make it to the dinner.\")\n",
    "guests[1] = \"Kamran\"\n",
    "print(\"Dear!\",guests[0],\"I would be honored to have you join me for dinner!\")\n",
    "print(\"Dear!\",guests[1],\"I would be honored to have you join me for dinner!\")\n",
    "print(\"Dear!\",guests[2],\"I would be honored to have you join me for dinner!\")\n",
    "print(\"Yahoo!!! We got bigger table so we can invite more friends\")"
   ]
  },
  {
   "cell_type": "markdown",
   "metadata": {},
   "source": [
    "Exercise 3-6: More Guests\n",
    "● Task: Start with your program from Exercise 3-4 or 3-5. Add a print() call to the end\n",
    "of your program, informing people that you found a bigger table. Use insert() to add\n",
    "one new guest to the beginning of your list. Use insert() to add one new guest to the\n",
    "middle of your list. Use append() to add one new guest to the end of your list. Print a\n",
    "new set of invitation messages, one for each person in your list."
   ]
  },
  {
   "cell_type": "code",
   "execution_count": 149,
   "metadata": {},
   "outputs": [
    {
     "name": "stdout",
     "output_type": "stream",
     "text": [
      "\n",
      "Great news! I found a bigger table, so we can invite more guests.\n",
      "New Guests List: ['Umair', 'Umair', 'Imran', 'Umair', 'Imran', 'Azeem', 'Imran', 'Kamran', 'Irfan', 'Awais', 'Awais', 'Awais']\n",
      "\n",
      "New invitation messages:\n",
      "Dear! Umair I would be honored to have you join me for dinner!\n",
      "Dear! Umair I would be honored to have you join me for dinner!\n",
      "Dear! Imran I would be honored to have you join me for dinner!\n",
      "Dear! Umair I would be honored to have you join me for dinner!\n"
     ]
    }
   ],
   "source": [
    "print(\"\\nGreat news! I found a bigger table, so we can invite more guests.\")\n",
    "guests.insert(0, \"Umair\")            \n",
    "guests.insert(2, \"Imran\")             \n",
    "guests.append(\"Awais\")     \n",
    "\n",
    "#print(\"New Guests List:\",guests)\n",
    "print(\"\\nNew invitation messages:\")\n",
    "\n",
    "print(\"Dear!\",guests[0],\"I would be honored to have you join me for dinner!\")\n",
    "print(\"Dear!\",guests[1],\"I would be honored to have you join me for dinner!\")\n",
    "print(\"Dear!\",guests[2],\"I would be honored to have you join me for dinner!\")\n",
    "print(\"Dear!\",guests[3],\"I would be honored to have you join me for dinner!\")\n",
    "\n"
   ]
  },
  {
   "cell_type": "markdown",
   "metadata": {},
   "source": [
    "Exercise 3-7: Shrinking Guest List\n",
    "● Task: Start with your program from Exercise 3-6. Add a new line that prints a message\n",
    "saying that you can invite only two people for dinner. Use pop() to remove guests from\n",
    "your list one at a time until only two names remain in your list. Each time you pop a\n",
    "name from your list, print a message to that person letting them know you’re sorry you\n",
    "can’t invite them to dinner. Print a message to each of the two people still on your list,\n",
    "letting them know they’re still invited. Use del to remove the last two names from your\n",
    "list, so you have an empty list. Print your list to make sure you actually have an empty\n",
    "list at the end of your program."
   ]
  },
  {
   "cell_type": "code",
   "execution_count": 85,
   "metadata": {},
   "outputs": [
    {
     "name": "stdout",
     "output_type": "stream",
     "text": [
      "Bad News! You can invite only two people for dinner.\n",
      "Ilyas you’re sorry you can’t invite them to dinner.\n",
      "Shahabaz you’re sorry you can’t invite them to dinner.\n",
      "Dear! Habib You are still invited for dinner!\n",
      "Dear! Awais You are still invited for dinner!\n",
      "Guests List is empty! []\n"
     ]
    }
   ],
   "source": [
    "guests :list = ['Habib','Awais','Shahabaz','Ilyas']\n",
    "print(\"Bad News! You can invite only two people for dinner.\")\n",
    "temp_guests = guests.pop()\n",
    "print(temp_guests,\"you’re sorry you can’t invite them to dinner.\")\n",
    "temp_guests = guests.pop()\n",
    "print(temp_guests,\"you’re sorry you can’t invite them to dinner.\")\n",
    "print(\"Dear!\",guests[0],\"You are still invited for dinner!\")\n",
    "print(\"Dear!\",guests[1],\"You are still invited for dinner!\")\n",
    "del guests[0]\n",
    "del guests[0]\n",
    "print(\"Guests List is empty!\",guests)\n",
    "\n",
    "\n"
   ]
  },
  {
   "cell_type": "code",
   "execution_count": 109,
   "metadata": {},
   "outputs": [
    {
     "name": "stdout",
     "output_type": "stream",
     "text": [
      "Original list: ['makkha', 'madina', 'effiel tower', 'tower bridge', 'new york']\n",
      "Alphabetical order: ['effiel tower', 'madina', 'makkha', 'new york', 'tower bridge']\n",
      "==============================================================================================\n",
      "Still original list: ['makkha', 'madina', 'effiel tower', 'tower bridge', 'new york']\n",
      "Reverse-Alphabetical order: ['tower bridge', 'new york', 'makkha', 'madina', 'effiel tower']\n",
      "==============================================================================================\n",
      "Still original list again: ['makkha', 'madina', 'effiel tower', 'tower bridge', 'new york']\n",
      "==============================================================================================\n",
      "Reversed list: ['new york', 'tower bridge', 'effiel tower', 'madina', 'makkha']\n",
      "Back to original order: ['new york', 'tower bridge', 'effiel tower', 'madina', 'makkha']\n",
      "==============================================================================================\n",
      "Alphabetical order with sort(): ['effiel tower', 'madina', 'makkha', 'new york', 'tower bridge']\n",
      "Reverse-Alphabetical order with sort(): ['tower bridge', 'new york', 'makkha', 'madina', 'effiel tower']\n"
     ]
    }
   ],
   "source": [
    "locations :list = ['makkha','madina','effiel tower','tower bridge','new york']\n",
    "print(\"Original list:\",locations)\n",
    "print(\"Alphabetical order:\", sorted(locations))\n",
    "print(\"==============================================================================================\")\n",
    "print(\"Still original list:\", locations)\n",
    "print(\"Reverse-Alphabetical order:\", sorted(locations, reverse=True))\n",
    "print(\"==============================================================================================\")\n",
    "print(\"Still original list again:\", locations)\n",
    "locations.reverse()\n",
    "print(\"==============================================================================================\")\n",
    "print(\"Reversed list:\", locations)\n",
    "locations.reverse\n",
    "print(\"Back to original order:\", locations)\n",
    "print(\"==============================================================================================\")\n",
    "locations.sort()\n",
    "print(\"Alphabetical order with sort():\", locations)\n",
    "locations.sort(reverse=True)\n",
    "print(\"Reverse-Alphabetical order with sort():\", locations)\n"
   ]
  },
  {
   "cell_type": "code",
   "execution_count": 140,
   "metadata": {},
   "outputs": [
    {
     "name": "stdout",
     "output_type": "stream",
     "text": [
      "Original List: ['Canada', 'Germany', 'Australia', 'Japan', 'Brazil']\n",
      "Use Append Function: ['Canada', 'Germany', 'Australia', 'Japan', 'Brazil', 'Pakistan']\n",
      "Use Extend Function: ['Canada', 'Germany', 'Australia', 'Japan', 'Brazil', 'Pakistan', 'India', 'Srilanka', 'Nepal']\n",
      "Use Insert Function: ['Canada', 'China', 'Germany', 'Australia', 'Japan', 'Brazil', 'Pakistan', 'India', 'Srilanka', 'Nepal']\n",
      "Use Remove Function: ['Canada', 'Germany', 'Australia', 'Japan', 'Brazil', 'Pakistan', 'India', 'Srilanka', 'Nepal']\n",
      "Popped country: Nepal\n",
      "After pop: ['Canada', 'Germany', 'Australia', 'Japan', 'Brazil', 'Pakistan', 'India', 'Srilanka']\n",
      "Use pop Function with index 1: ['Canada', 'Australia', 'Japan', 'Brazil', 'Pakistan', 'India', 'Srilanka']\n",
      "Use Index Function 4\n",
      "Use Count Function: 1\n",
      "Use Sort Function: ['Australia', 'Brazil', 'Canada', 'India', 'Japan', 'Pakistan', 'Srilanka']\n",
      "Use Reverse Function: ['Srilanka', 'Pakistan', 'Japan', 'India', 'Canada', 'Brazil', 'Australia']\n",
      "Original without Copy list: ['Srilanka', 'Pakistan', 'Japan', 'India', 'Canada', 'Brazil', 'Australia']\n",
      "copied list: ['Srilanka', 'Pakistan', 'Japan', 'India', 'Canada', 'Brazil', 'Australia']\n",
      "Sliced list: ['Pakistan', 'Japan', 'India']\n",
      "Number of countries: 7\n",
      "Use Clear Function: []\n"
     ]
    }
   ],
   "source": [
    "countries = [\"Canada\", \"Germany\", \"Australia\", \"Japan\", \"Brazil\"]\n",
    "print(\"Original List:\",countries)\n",
    "\n",
    "#append() use to add new value at the end of list\n",
    "countries.append(\"Pakistan\") \n",
    "print(\"Use Append Function:\",countries)\n",
    "\n",
    "#extend() use to merge two lists in one list\n",
    "more_countries = ['India','Srilanka','Nepal']\n",
    "\n",
    "countries.extend(more_countries)\n",
    "print(\"Use Extend Function:\",countries)\n",
    "\n",
    "#insert() use to add new value on defined index of list\n",
    "countries.insert(1,\"China\")\n",
    "print(\"Use Insert Function:\",countries)\n",
    "\n",
    "#remove() use to remove defined value from the list\n",
    "countries.remove(\"China\")\n",
    "print(\"Use Remove Function:\", countries)\n",
    "\n",
    "#pop() remove last index value \n",
    "popped_country = countries.pop()\n",
    "print(\"Popped country:\", popped_country)\n",
    "print(\"After pop:\", countries)\n",
    "\n",
    "#pop(index) remove defined index value \n",
    "countries.pop(1)\n",
    "print(\"Use pop Function with index 1:\",countries)\n",
    "\n",
    "#index() return index number on which specific value stored => Case Sensitive\n",
    "ind_number = countries.index(\"Pakistan\")\n",
    "print(\"Use Index Function\",ind_number)\n",
    "\n",
    "#count() Return the number of times the specific value appears in the list => Case Sensitive\n",
    "count = countries.count(\"Pakistan\")\n",
    "print(\"Use Count Function:\",count)\n",
    "\n",
    "#sort() sort the list alphabetically\n",
    "countries.sort()\n",
    "print(\"Use Sort Function:\",countries)\n",
    "\n",
    "#reverse() Reverse the order of provided list\n",
    "countries.reverse()\n",
    "print(\"Use Reverse Function:\",countries)\n",
    "\n",
    "#copy() make copy of list from any other provided list \n",
    "copy_countries = countries.copy()\n",
    "print(\"Original without Copy list:\",countries)\n",
    "print(\"copied list:\",copy_countries)\n",
    "\n",
    "# Slice the list to get a sublist\n",
    "some_countries = countries[1:4]\n",
    "print(\"Sliced list:\", some_countries)\n",
    "\n",
    "# Find the length of the list\n",
    "length = len(countries)\n",
    "print(\"Number of countries:\", length)\n",
    "\n",
    "#clear use to empty the provided list\n",
    "countries.clear()\n",
    "print(\"Use Clear Function:\",countries)\n",
    "\n"
   ]
  },
  {
   "cell_type": "markdown",
   "metadata": {},
   "source": [
    "Exercise 3-10: Intentional Error\n",
    "● Task: If you haven’t received an index error in one of your programs yet, try to make one\n",
    "happen. Change an index in one of your programs to produce an index error. Make sure\n",
    "you correct the error before closing the program."
   ]
  },
  {
   "cell_type": "code",
   "execution_count": 150,
   "metadata": {},
   "outputs": [],
   "source": [
    "error :list = ['error1','error2','error3']\n",
    "#print(error[3])\n"
   ]
  }
 ],
 "metadata": {
  "kernelspec": {
   "display_name": "Python 3",
   "language": "python",
   "name": "python3"
  },
  "language_info": {
   "codemirror_mode": {
    "name": "ipython",
    "version": 3
   },
   "file_extension": ".py",
   "mimetype": "text/x-python",
   "name": "python",
   "nbconvert_exporter": "python",
   "pygments_lexer": "ipython3",
   "version": "3.12.4"
  }
 },
 "nbformat": 4,
 "nbformat_minor": 2
}
