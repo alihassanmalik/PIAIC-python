{
 "cells": [
  {
   "cell_type": "code",
   "execution_count": 7,
   "metadata": {},
   "outputs": [
    {
     "name": "stdout",
     "output_type": "stream",
     "text": [
      "Xyz\n",
      "Abc\n",
      "Fgh\n"
     ]
    }
   ],
   "source": [
    "pizza:list = ['xyz','abc','fgh']\n",
    "for p in pizza:\n",
    "    print(p.title())"
   ]
  },
  {
   "cell_type": "code",
   "execution_count": 13,
   "metadata": {},
   "outputs": [
    {
     "name": "stdout",
     "output_type": "stream",
     "text": [
      "1\n",
      "2\n",
      "3\n",
      "4\n",
      "5\n",
      "6\n",
      "7\n",
      "8\n",
      "9\n",
      "10\n",
      "11\n",
      "12\n",
      "13\n",
      "14\n",
      "15\n",
      "16\n",
      "17\n",
      "18\n",
      "19\n",
      "20\n"
     ]
    }
   ],
   "source": [
    "for value in range(1, 21,1):\n",
    "    print(value)"
   ]
  },
  {
   "cell_type": "code",
   "execution_count": 26,
   "metadata": {},
   "outputs": [
    {
     "name": "stdout",
     "output_type": "stream",
     "text": [
      "['a', 'b', 'c', 'd', 'f']\n",
      "['a', 'b', 'c', 'd', 'f', 'e']\n",
      "['zz', 'a', 'b', 'c', 'd', 'f', 'e']\n"
     ]
    }
   ],
   "source": [
    "temp_list :list = ['a','b','c','d','f']\n",
    "print(temp_list)\n",
    "temp_list.append('e')\n",
    "print(temp_list)\n",
    "temp_list.insert(0,'zz')\n",
    "print(temp_list)\n"
   ]
  },
  {
   "cell_type": "code",
   "execution_count": 42,
   "metadata": {},
   "outputs": [
    {
     "name": "stdout",
     "output_type": "stream",
     "text": [
      "Hi!! Ali\n",
      "Hi!! Azeem\n",
      "Hi!! Tayyab\n",
      ">>>>>>>>>>>>>>>>>>>>>>>>>>>>>>>>>>>>>>>>>>>>>>>>>>>>>>>>>>>>>>>>>>>>>>>>>>>>>>>>>>>>>>>>\n",
      "Hi!! Ali\n",
      "Hi!! Azeem\n",
      "Hi!! Tayyab\n",
      "['Ali', 'Tayyab']\n",
      "['Ali', 'Junaid', 'Tayyab']\n",
      "0\n"
     ]
    }
   ],
   "source": [
    "friends :list = ['Ali','Azeem','Tayyab']\n",
    "print(\"Hi!!\",friends[0])\n",
    "print(\"Hi!!\",friends[1])\n",
    "print(\"Hi!!\",friends[2])\n",
    "\n",
    "print(\">>>>>>>>>>>>>>>>>>>>>>>>>>>>>>>>>>>>>>>>>>>>>>>>>>>>>>>>>>>>>>>>>>>>>>>>>>>>>>>>>>>>>>>>\")\n",
    "for fri in friends:\n",
    "    print(\"Hi!!\",fri)\n",
    "    \n",
    "    \n",
    "del friends[1]\n",
    "print(friends)\n",
    "\n",
    "friends.insert(1,'Junaid')\n",
    "print(friends)\n",
    "\n",
    "a :list = ['a','b','a','b']\n",
    "print(a.index('a'))"
   ]
  }
 ],
 "metadata": {
  "kernelspec": {
   "display_name": "Python 3",
   "language": "python",
   "name": "python3"
  },
  "language_info": {
   "codemirror_mode": {
    "name": "ipython",
    "version": 3
   },
   "file_extension": ".py",
   "mimetype": "text/x-python",
   "name": "python",
   "nbconvert_exporter": "python",
   "pygments_lexer": "ipython3",
   "version": "3.12.4"
  }
 },
 "nbformat": 4,
 "nbformat_minor": 2
}
