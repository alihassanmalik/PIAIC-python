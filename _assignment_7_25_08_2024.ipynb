{
 "cells": [
  {
   "cell_type": "markdown",
   "metadata": {},
   "source": [
    "Assignment 7"
   ]
  },
  {
   "cell_type": "code",
   "execution_count": 15,
   "metadata": {},
   "outputs": [
    {
     "name": "stdout",
     "output_type": "stream",
     "text": [
      "Your name is: Ali\n",
      "2\n",
      "3\n",
      "4\n",
      "Hello,Ali! Let's explore your favorite numbers:\n",
      "The number 2 is even.\n",
      "The number 3 is odd.\n",
      "The number 4 is even.\n",
      "The number 2 and its square: (2, 4)\n",
      "The number 3 and its square: (3, 9)\n",
      "The number 4 and its square: (4, 16)\n",
      "\n",
      "Amazing! The sum of your favorite numbers is: 9\n",
      "Oops, 9 is not a prime number!\n"
     ]
    }
   ],
   "source": [
    "name = input(\"Enter your name:\")\n",
    "print(\"Your name is:\",name)\n",
    "\n",
    "fav_number1 = int(input(\"Enter your first favorite number:\"))\n",
    "print(fav_number1)\n",
    "\n",
    "fav_number2 = int(input(\"Enter your first favorite number:\"))\n",
    "print(fav_number2)\n",
    "\n",
    "fav_number3 = int (input(\"Enter your first favorite number:\"))\n",
    "print(fav_number3)\n",
    "\n",
    "\n",
    "\n",
    "#numbers: list = [fav_number1,fav_number2,fav_number3]\n",
    "numbers = (fav_number1,fav_number2,fav_number3)\n",
    "#print(numbers)\n",
    "\n",
    "\n",
    "\n",
    "print (\"Hello,%s! Let's explore your favorite numbers:\"%name)\n",
    "\n",
    "for number in numbers:    \n",
    "    if(number % 2) == 0:\n",
    "        print(\"The number %s is even.\"%number)\n",
    "    else:\n",
    "        print(\"The number %s is odd.\"%number)\n",
    "        \n",
    "#Square\n",
    "for number in numbers:\n",
    "    square :int= (number**2)\n",
    "    print('The number %d and its square: (%d, %d)' %(number,number,number**2))\n",
    "    \n",
    "total :int = (fav_number1+fav_number2+fav_number3)\n",
    "print('\\nAmazing! The sum of your favorite numbers is: %d'%total)\n",
    "\n",
    "#Check Prime Number\n",
    "flag = False\n",
    "if total == 0 or total ==1:\n",
    "    print(total, \"is not a prime number\")\n",
    "elif total > 1:    \n",
    "    for i in range(2, total):\n",
    "        if (total % i) == 0:\n",
    "            # if factor is found, set flag to True\n",
    "            flag = True\n",
    "            # break out of loop\n",
    "            break\n",
    "    # check if flag is True\n",
    "    if flag:\n",
    "        print('Oops, %d is not a prime number!'%total)\n",
    "    else:\n",
    "        print('Wow, %d is a prime number!'%total)\n",
    "\n"
   ]
  },
  {
   "cell_type": "code",
   "execution_count": 14,
   "metadata": {},
   "outputs": [
    {
     "name": "stdout",
     "output_type": "stream",
     "text": [
      "Chicken Chilli Dry\n",
      "Sandwitch\n",
      "Wraps\n",
      "Burgers\n",
      "Drinks\n",
      "\n",
      "Buffet Modified\n",
      "Chicken Chilli Dry\n",
      "Coffee\n",
      "Burgers\n",
      "Drinks\n",
      "Beef Chilli Dry\n"
     ]
    }
   ],
   "source": [
    "buffet =('Chicken Chilli Dry','Sandwitch','Wraps','Burgers','Drinks')\n",
    "\n",
    "\n",
    "for dish in buffet:\n",
    "    print(dish)\n",
    "    \n",
    "print(\"\\nBuffet Modified\")\n",
    "buffet =('Chicken Chilli Dry','Coffee','Burgers','Drinks','Beef Chilli Dry')\n",
    "for dish in buffet:\n",
    "    print(dish)\n",
    "    \n",
    "#buffet[4] = 'Mint'\n",
    "#print(buffet)"
   ]
  }
 ],
 "metadata": {
  "kernelspec": {
   "display_name": "Python 3",
   "language": "python",
   "name": "python3"
  },
  "language_info": {
   "codemirror_mode": {
    "name": "ipython",
    "version": 3
   },
   "file_extension": ".py",
   "mimetype": "text/x-python",
   "name": "python",
   "nbconvert_exporter": "python",
   "pygments_lexer": "ipython3",
   "version": "3.12.4"
  }
 },
 "nbformat": 4,
 "nbformat_minor": 2
}
